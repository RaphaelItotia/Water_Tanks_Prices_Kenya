{
 "cells": [
  {
   "cell_type": "code",
   "execution_count": 1,
   "id": "59a7a410-5361-43fc-bdc7-862605698fb7",
   "metadata": {},
   "outputs": [],
   "source": [
    "import requests\n",
    "from bs4 import BeautifulSoup\n",
    "import pandas as pd"
   ]
  },
  {
   "cell_type": "code",
   "execution_count": 2,
   "id": "273605bb-3534-4759-a4b1-e3351a06a83b",
   "metadata": {},
   "outputs": [],
   "source": [
    "#URL of the page to scrape\n",
    "url = \"\""
   ]
  },
  {
   "cell_type": "code",
   "execution_count": null,
   "id": "ddc478a4-825f-4fc3-8451-52ffece901c8",
   "metadata": {},
   "outputs": [],
   "source": [
    "#Send a GET request to the page\n",
    "response = requests.get(url)"
   ]
  },
  {
   "cell_type": "code",
   "execution_count": null,
   "id": "cd0f999b-6860-4c8e-8698-8cae5784a309",
   "metadata": {},
   "outputs": [],
   "source": [
    "#Parse the page content\n",
    "soup = BeautifulSoup(response.content,\"html.parser\")"
   ]
  },
  {
   "cell_type": "code",
   "execution_count": null,
   "id": "74f58ba1-b86a-45c7-92a2-883ca1438242",
   "metadata": {},
   "outputs": [],
   "source": [
    "#Find the table in the page assuming the table is in a specific class or id\n",
    "table = soup.find(\"table\")"
   ]
  },
  {
   "cell_type": "code",
   "execution_count": null,
   "id": "c731a3ff-4134-4aa5-b54c-08d5c29cb00a",
   "metadata": {},
   "outputs": [],
   "source": [
    "#Initialize lists to store the data\n",
    "sizes = []\n",
    "brands = []\n",
    "prices = []"
   ]
  },
  {
   "cell_type": "code",
   "execution_count": null,
   "id": "467485c8-d961-4352-bdfc-e27780a9bf18",
   "metadata": {},
   "outputs": [],
   "source": [
    "#Extract table rows\n",
    "rows = table.find_all(\"tr\")\n",
    "for row in rows[1:]: #skip the header row\n",
    "    cells = row.find_all(\"td\")\n",
    "    if len(cells) == 3:\n",
    "        size = cells[0].text.strip()\n",
    "        brand = cells[1].text.strip()\n",
    "        price = cells[2].text.strip()\n",
    "\n",
    "        sizes.append(size)\n",
    "        brands.append(brand)\n",
    "        prices.append(price)"
   ]
  },
  {
   "cell_type": "code",
   "execution_count": null,
   "id": "ea4ee2cd-3953-4de3-aba4-4e5ca52cbca7",
   "metadata": {},
   "outputs": [],
   "source": [
    "#Create a DataFrame\n",
    "data = {\n",
    "    \"Size (litres)\": sizes,\n",
    "    \"Brand\": brands,\n",
    "    \"Prices (Kshs)\": prices\n",
    "}\n",
    "df = pd.Dataframe(data)"
   ]
  },
  {
   "cell_type": "code",
   "execution_count": null,
   "id": "20647b6c-5929-468d-af07-fabb23ec75a4",
   "metadata": {},
   "outputs": [],
   "source": [
    "#Optionally, save the DataFrame to a CSV file\n",
    "df.to_csv(\"Water_tank_prices_Kenya.csv\", index=False)"
   ]
  }
 ],
 "metadata": {
  "kernelspec": {
   "display_name": "Python 3 (ipykernel)",
   "language": "python",
   "name": "python3"
  },
  "language_info": {
   "codemirror_mode": {
    "name": "ipython",
    "version": 3
   },
   "file_extension": ".py",
   "mimetype": "text/x-python",
   "name": "python",
   "nbconvert_exporter": "python",
   "pygments_lexer": "ipython3",
   "version": "3.12.3"
  }
 },
 "nbformat": 4,
 "nbformat_minor": 5
}
